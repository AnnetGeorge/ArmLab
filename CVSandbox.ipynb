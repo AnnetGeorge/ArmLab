{
 "cells": [
  {
   "cell_type": "code",
   "execution_count": 1,
   "metadata": {},
   "outputs": [
    {
     "ename": "ModuleNotFoundError",
     "evalue": "No module named 'matplotlib'",
     "output_type": "error",
     "traceback": [
      "\u001b[0;31m---------------------------------------------------------------------------\u001b[0m",
      "\u001b[0;31mModuleNotFoundError\u001b[0m                       Traceback (most recent call last)",
      "\u001b[0;32m<ipython-input-1-65966217e68e>\u001b[0m in \u001b[0;36m<module>\u001b[0;34m\u001b[0m\n\u001b[0;32m----> 1\u001b[0;31m \u001b[0mget_ipython\u001b[0m\u001b[0;34m(\u001b[0m\u001b[0;34m)\u001b[0m\u001b[0;34m.\u001b[0m\u001b[0mrun_line_magic\u001b[0m\u001b[0;34m(\u001b[0m\u001b[0;34m'matplotlib'\u001b[0m\u001b[0;34m,\u001b[0m \u001b[0;34m'inline'\u001b[0m\u001b[0;34m)\u001b[0m\u001b[0;34m\u001b[0m\u001b[0;34m\u001b[0m\u001b[0m\n\u001b[0m\u001b[1;32m      2\u001b[0m \u001b[0;32mimport\u001b[0m \u001b[0mcv2\u001b[0m\u001b[0;34m\u001b[0m\u001b[0;34m\u001b[0m\u001b[0m\n\u001b[1;32m      3\u001b[0m \u001b[0;32mimport\u001b[0m \u001b[0mnumpy\u001b[0m \u001b[0;32mas\u001b[0m \u001b[0mnp\u001b[0m\u001b[0;34m\u001b[0m\u001b[0;34m\u001b[0m\u001b[0m\n\u001b[1;32m      4\u001b[0m \u001b[0;32mimport\u001b[0m \u001b[0mmatplotlib\u001b[0m\u001b[0;34m.\u001b[0m\u001b[0mpyplot\u001b[0m \u001b[0;32mas\u001b[0m \u001b[0mplt\u001b[0m\u001b[0;34m\u001b[0m\u001b[0;34m\u001b[0m\u001b[0m\n\u001b[1;32m      5\u001b[0m \u001b[0;32mfrom\u001b[0m \u001b[0mPyQt4\u001b[0m\u001b[0;34m.\u001b[0m\u001b[0mQtGui\u001b[0m \u001b[0;32mimport\u001b[0m \u001b[0mQImage\u001b[0m\u001b[0;34m\u001b[0m\u001b[0;34m\u001b[0m\u001b[0m\n",
      "\u001b[0;32m/snap/jupyter/6/lib/python3.7/site-packages/IPython/core/interactiveshell.py\u001b[0m in \u001b[0;36mrun_line_magic\u001b[0;34m(self, magic_name, line, _stack_depth)\u001b[0m\n\u001b[1;32m   2305\u001b[0m                 \u001b[0mkwargs\u001b[0m\u001b[0;34m[\u001b[0m\u001b[0;34m'local_ns'\u001b[0m\u001b[0;34m]\u001b[0m \u001b[0;34m=\u001b[0m \u001b[0msys\u001b[0m\u001b[0;34m.\u001b[0m\u001b[0m_getframe\u001b[0m\u001b[0;34m(\u001b[0m\u001b[0mstack_depth\u001b[0m\u001b[0;34m)\u001b[0m\u001b[0;34m.\u001b[0m\u001b[0mf_locals\u001b[0m\u001b[0;34m\u001b[0m\u001b[0;34m\u001b[0m\u001b[0m\n\u001b[1;32m   2306\u001b[0m             \u001b[0;32mwith\u001b[0m \u001b[0mself\u001b[0m\u001b[0;34m.\u001b[0m\u001b[0mbuiltin_trap\u001b[0m\u001b[0;34m:\u001b[0m\u001b[0;34m\u001b[0m\u001b[0;34m\u001b[0m\u001b[0m\n\u001b[0;32m-> 2307\u001b[0;31m                 \u001b[0mresult\u001b[0m \u001b[0;34m=\u001b[0m \u001b[0mfn\u001b[0m\u001b[0;34m(\u001b[0m\u001b[0;34m*\u001b[0m\u001b[0margs\u001b[0m\u001b[0;34m,\u001b[0m \u001b[0;34m**\u001b[0m\u001b[0mkwargs\u001b[0m\u001b[0;34m)\u001b[0m\u001b[0;34m\u001b[0m\u001b[0;34m\u001b[0m\u001b[0m\n\u001b[0m\u001b[1;32m   2308\u001b[0m             \u001b[0;32mreturn\u001b[0m \u001b[0mresult\u001b[0m\u001b[0;34m\u001b[0m\u001b[0;34m\u001b[0m\u001b[0m\n\u001b[1;32m   2309\u001b[0m \u001b[0;34m\u001b[0m\u001b[0m\n",
      "\u001b[0;32m</snap/jupyter/6/lib/python3.7/site-packages/decorator.py:decorator-gen-108>\u001b[0m in \u001b[0;36mmatplotlib\u001b[0;34m(self, line)\u001b[0m\n",
      "\u001b[0;32m/snap/jupyter/6/lib/python3.7/site-packages/IPython/core/magic.py\u001b[0m in \u001b[0;36m<lambda>\u001b[0;34m(f, *a, **k)\u001b[0m\n\u001b[1;32m    185\u001b[0m     \u001b[0;31m# but it's overkill for just that one bit of state.\u001b[0m\u001b[0;34m\u001b[0m\u001b[0;34m\u001b[0m\u001b[0;34m\u001b[0m\u001b[0m\n\u001b[1;32m    186\u001b[0m     \u001b[0;32mdef\u001b[0m \u001b[0mmagic_deco\u001b[0m\u001b[0;34m(\u001b[0m\u001b[0marg\u001b[0m\u001b[0;34m)\u001b[0m\u001b[0;34m:\u001b[0m\u001b[0;34m\u001b[0m\u001b[0;34m\u001b[0m\u001b[0m\n\u001b[0;32m--> 187\u001b[0;31m         \u001b[0mcall\u001b[0m \u001b[0;34m=\u001b[0m \u001b[0;32mlambda\u001b[0m \u001b[0mf\u001b[0m\u001b[0;34m,\u001b[0m \u001b[0;34m*\u001b[0m\u001b[0ma\u001b[0m\u001b[0;34m,\u001b[0m \u001b[0;34m**\u001b[0m\u001b[0mk\u001b[0m\u001b[0;34m:\u001b[0m \u001b[0mf\u001b[0m\u001b[0;34m(\u001b[0m\u001b[0;34m*\u001b[0m\u001b[0ma\u001b[0m\u001b[0;34m,\u001b[0m \u001b[0;34m**\u001b[0m\u001b[0mk\u001b[0m\u001b[0;34m)\u001b[0m\u001b[0;34m\u001b[0m\u001b[0;34m\u001b[0m\u001b[0m\n\u001b[0m\u001b[1;32m    188\u001b[0m \u001b[0;34m\u001b[0m\u001b[0m\n\u001b[1;32m    189\u001b[0m         \u001b[0;32mif\u001b[0m \u001b[0mcallable\u001b[0m\u001b[0;34m(\u001b[0m\u001b[0marg\u001b[0m\u001b[0;34m)\u001b[0m\u001b[0;34m:\u001b[0m\u001b[0;34m\u001b[0m\u001b[0;34m\u001b[0m\u001b[0m\n",
      "\u001b[0;32m/snap/jupyter/6/lib/python3.7/site-packages/IPython/core/magics/pylab.py\u001b[0m in \u001b[0;36mmatplotlib\u001b[0;34m(self, line)\u001b[0m\n\u001b[1;32m     97\u001b[0m             \u001b[0mprint\u001b[0m\u001b[0;34m(\u001b[0m\u001b[0;34m\"Available matplotlib backends: %s\"\u001b[0m \u001b[0;34m%\u001b[0m \u001b[0mbackends_list\u001b[0m\u001b[0;34m)\u001b[0m\u001b[0;34m\u001b[0m\u001b[0;34m\u001b[0m\u001b[0m\n\u001b[1;32m     98\u001b[0m         \u001b[0;32melse\u001b[0m\u001b[0;34m:\u001b[0m\u001b[0;34m\u001b[0m\u001b[0;34m\u001b[0m\u001b[0m\n\u001b[0;32m---> 99\u001b[0;31m             \u001b[0mgui\u001b[0m\u001b[0;34m,\u001b[0m \u001b[0mbackend\u001b[0m \u001b[0;34m=\u001b[0m \u001b[0mself\u001b[0m\u001b[0;34m.\u001b[0m\u001b[0mshell\u001b[0m\u001b[0;34m.\u001b[0m\u001b[0menable_matplotlib\u001b[0m\u001b[0;34m(\u001b[0m\u001b[0margs\u001b[0m\u001b[0;34m.\u001b[0m\u001b[0mgui\u001b[0m\u001b[0;34m)\u001b[0m\u001b[0;34m\u001b[0m\u001b[0;34m\u001b[0m\u001b[0m\n\u001b[0m\u001b[1;32m    100\u001b[0m             \u001b[0mself\u001b[0m\u001b[0;34m.\u001b[0m\u001b[0m_show_matplotlib_backend\u001b[0m\u001b[0;34m(\u001b[0m\u001b[0margs\u001b[0m\u001b[0;34m.\u001b[0m\u001b[0mgui\u001b[0m\u001b[0;34m,\u001b[0m \u001b[0mbackend\u001b[0m\u001b[0;34m)\u001b[0m\u001b[0;34m\u001b[0m\u001b[0;34m\u001b[0m\u001b[0m\n\u001b[1;32m    101\u001b[0m \u001b[0;34m\u001b[0m\u001b[0m\n",
      "\u001b[0;32m/snap/jupyter/6/lib/python3.7/site-packages/IPython/core/interactiveshell.py\u001b[0m in \u001b[0;36menable_matplotlib\u001b[0;34m(self, gui)\u001b[0m\n\u001b[1;32m   3370\u001b[0m         \"\"\"\n\u001b[1;32m   3371\u001b[0m         \u001b[0;32mfrom\u001b[0m \u001b[0mIPython\u001b[0m\u001b[0;34m.\u001b[0m\u001b[0mcore\u001b[0m \u001b[0;32mimport\u001b[0m \u001b[0mpylabtools\u001b[0m \u001b[0;32mas\u001b[0m \u001b[0mpt\u001b[0m\u001b[0;34m\u001b[0m\u001b[0;34m\u001b[0m\u001b[0m\n\u001b[0;32m-> 3372\u001b[0;31m         \u001b[0mgui\u001b[0m\u001b[0;34m,\u001b[0m \u001b[0mbackend\u001b[0m \u001b[0;34m=\u001b[0m \u001b[0mpt\u001b[0m\u001b[0;34m.\u001b[0m\u001b[0mfind_gui_and_backend\u001b[0m\u001b[0;34m(\u001b[0m\u001b[0mgui\u001b[0m\u001b[0;34m,\u001b[0m \u001b[0mself\u001b[0m\u001b[0;34m.\u001b[0m\u001b[0mpylab_gui_select\u001b[0m\u001b[0;34m)\u001b[0m\u001b[0;34m\u001b[0m\u001b[0;34m\u001b[0m\u001b[0m\n\u001b[0m\u001b[1;32m   3373\u001b[0m \u001b[0;34m\u001b[0m\u001b[0m\n\u001b[1;32m   3374\u001b[0m         \u001b[0;32mif\u001b[0m \u001b[0mgui\u001b[0m \u001b[0;34m!=\u001b[0m \u001b[0;34m'inline'\u001b[0m\u001b[0;34m:\u001b[0m\u001b[0;34m\u001b[0m\u001b[0;34m\u001b[0m\u001b[0m\n",
      "\u001b[0;32m/snap/jupyter/6/lib/python3.7/site-packages/IPython/core/pylabtools.py\u001b[0m in \u001b[0;36mfind_gui_and_backend\u001b[0;34m(gui, gui_select)\u001b[0m\n\u001b[1;32m    274\u001b[0m     \"\"\"\n\u001b[1;32m    275\u001b[0m \u001b[0;34m\u001b[0m\u001b[0m\n\u001b[0;32m--> 276\u001b[0;31m     \u001b[0;32mimport\u001b[0m \u001b[0mmatplotlib\u001b[0m\u001b[0;34m\u001b[0m\u001b[0;34m\u001b[0m\u001b[0m\n\u001b[0m\u001b[1;32m    277\u001b[0m \u001b[0;34m\u001b[0m\u001b[0m\n\u001b[1;32m    278\u001b[0m     \u001b[0;32mif\u001b[0m \u001b[0mgui\u001b[0m \u001b[0;32mand\u001b[0m \u001b[0mgui\u001b[0m \u001b[0;34m!=\u001b[0m \u001b[0;34m'auto'\u001b[0m\u001b[0;34m:\u001b[0m\u001b[0;34m\u001b[0m\u001b[0;34m\u001b[0m\u001b[0m\n",
      "\u001b[0;31mModuleNotFoundError\u001b[0m: No module named 'matplotlib'"
     ]
    }
   ],
   "source": [
    "%matplotlib inline\n",
    "import cv2\n",
    "import numpy as np\n",
    "import matplotlib.pyplot as plt\n",
    "from PyQt4.QtGui import QImage"
   ]
  },
  {
   "cell_type": "code",
   "execution_count": null,
   "metadata": {},
   "outputs": [],
   "source": [
    "def loadCameraCalibration():\n",
    "    \"\"\"\n",
    "    Load camera intrinsic matrix from file\n",
    "    \"\"\"\n",
    "    return np.loadtxt(\"./util/intrinsic_mat.cfg\")"
   ]
  },
  {
   "cell_type": "code",
   "execution_count": null,
   "metadata": {},
   "outputs": [],
   "source": [
    "camera_calibration = loadCameraCalibration()\n",
    "camera_calibration"
   ]
  },
  {
   "cell_type": "markdown",
   "metadata": {},
   "source": [
    "# Load the RGB and Depth Images & Show Raw Imgs"
   ]
  },
  {
   "cell_type": "code",
   "execution_count": null,
   "metadata": {},
   "outputs": [],
   "source": [
    "rgb_img = cv2.imread('./rgb_7.png')\n",
    "depth_img = cv2.imread('./depth_7.png')\n",
    "depth_data = np.load('./depth_frame_data_7.npy')"
   ]
  },
  {
   "cell_type": "code",
   "execution_count": null,
   "metadata": {},
   "outputs": [],
   "source": [
    "rgb_img.shape"
   ]
  },
  {
   "cell_type": "code",
   "execution_count": null,
   "metadata": {},
   "outputs": [],
   "source": [
    "plt.imshow(rgb_img[...,::-1])"
   ]
  },
  {
   "cell_type": "code",
   "execution_count": null,
   "metadata": {},
   "outputs": [],
   "source": [
    "plt.imshow(depth_img[...,::-1])"
   ]
  },
  {
   "cell_type": "code",
   "execution_count": null,
   "metadata": {},
   "outputs": [],
   "source": [
    "def convertDepthFrame(depthFrameData):\n",
    "    \"\"\" Converts frame to a colormaped format suitable for Qt  \n",
    "        Note: this cycles the spectrum over the lowest 8 bits\n",
    "    \"\"\"\n",
    "    try:\n",
    "\n",
    "        \"\"\" \n",
    "        Convert Depth frame to rudimentary colormap\n",
    "        \"\"\"\n",
    "        DepthHSV = np.zeros((480,640,3)).astype(np.uint8)\n",
    "        DepthCM=np.array([])\n",
    "        block_contours = np.array([])\n",
    "        DepthHSV[...,0] = depthFrameData\n",
    "        DepthHSV[...,1] = 0x9F\n",
    "        DepthHSV[...,2] = 0xFF\n",
    "        DepthCM = cv2.cvtColor(DepthHSV,cv2.COLOR_HSV2RGB)\n",
    "        cv2.drawContours(DepthCM,block_contours,-1,(0,0,0),3)\n",
    "#        img = QImage(DepthCM,\n",
    "#                         DepthCM.shape[1],\n",
    "#                         DepthCM.shape[0],\n",
    "#                         QImage.Format_RGB888\n",
    "#                         )\n",
    "        return DepthCM\n",
    "    except:\n",
    "        return None"
   ]
  },
  {
   "cell_type": "code",
   "execution_count": null,
   "metadata": {},
   "outputs": [],
   "source": [
    "depthImgFromData = convertDepthFrame(depth_data)"
   ]
  },
  {
   "cell_type": "code",
   "execution_count": null,
   "metadata": {},
   "outputs": [],
   "source": [
    "plt.imshow(depthImgFromData)"
   ]
  },
  {
   "cell_type": "markdown",
   "metadata": {},
   "source": [
    "# Create and mark correspondance points"
   ]
  },
  {
   "cell_type": "code",
   "execution_count": null,
   "metadata": {},
   "outputs": [],
   "source": [
    "xs_rgb=[105,85,430,440,255]\n",
    "ys_rgb=[447,100,85,425,280]\n",
    "\n",
    "\n",
    "rgb_img2 = rgb_img.copy()\n",
    "for i in range(len(xs_rgb)):\n",
    "    rgb_img2[ys_rgb[i]-5:ys_rgb[i]+5,xs_rgb[i]-5:xs_rgb[i]+5] = [0,0,255]"
   ]
  },
  {
   "cell_type": "code",
   "execution_count": null,
   "metadata": {},
   "outputs": [],
   "source": [
    "plt.imshow(rgb_img2[...,::-1])"
   ]
  },
  {
   "cell_type": "code",
   "execution_count": null,
   "metadata": {},
   "outputs": [],
   "source": [
    "xs_depth=[112,80,460,480,275]\n",
    "ys_depth=[460,95,65,437,280]\n",
    "\n",
    "\n",
    "depth_img2 = depth_img.copy()\n",
    "for i in range(len(xs_depth)):\n",
    "    depth_img2[ys_depth[i]-5:ys_depth[i]+5,xs_depth[i]-5:xs_depth[i]+5] = [0,0,255]"
   ]
  },
  {
   "cell_type": "code",
   "execution_count": null,
   "metadata": {},
   "outputs": [],
   "source": [
    "plt.imshow(depth_img2[...,::-1])"
   ]
  },
  {
   "cell_type": "markdown",
   "metadata": {},
   "source": [
    "# Determine the Affine Transformation Between the Two"
   ]
  },
  {
   "cell_type": "code",
   "execution_count": null,
   "metadata": {},
   "outputs": [],
   "source": [
    "def getAffineTransformNonCV(coord1, coord2):\n",
    "        \"\"\"\n",
    "        Given 2 sets of corresponding coordinates, \n",
    "        find the affine matrix transform between them.\n",
    "\n",
    "        TODO: Rewrite this function to take in an arbitrary number of coordinates and \n",
    "        find the transform without using cv2 functions\n",
    "        \"\"\"\n",
    "        pts1 = coord1[::].astype(np.float32)\n",
    "        pts2 = coord2[::].astype(np.float32)\n",
    "        numPoints = len(pts1)\n",
    "        A = np.zeros((numPoints*2,6))\n",
    "        B = np.zeros((numPoints*2,1))\n",
    "        for i in range(numPoints):\n",
    "            Arow_1 = [pts1[i][0], pts1[i][1],1,0,0,0]\n",
    "            Arow_2 = [0,0,0,pts1[i][0], pts1[i][1],1]\n",
    "            B[i*2] = pts2[i][0]\n",
    "            B[(i*2)+1] = pts2[i][1]\n",
    "            A[i*2] = Arow_1\n",
    "            A[(i*2)+1] = Arow_2\n",
    "\n",
    "        AtA = np.matmul(A.T, A)\n",
    "        AtA_inv = np.linalg.inv(AtA)\n",
    "        pseudo_invA = np.matmul(AtA_inv,A.T)\n",
    "        result = np.matmul(pseudo_invA,B)\n",
    "        return [[result[0][0],result[1][0],result[2][0]],[result[3][0],result[4][0],result[5][0]],[0,0,1]]"
   ]
  },
  {
   "cell_type": "code",
   "execution_count": null,
   "metadata": {},
   "outputs": [],
   "source": [
    "xys_rgb = np.array([(a,b) for a, b in zip(*(xs_rgb, ys_rgb))]) \n",
    "xys_depth = np.array([(a,b) for a, b in zip(*(xs_depth, ys_depth))]) "
   ]
  },
  {
   "cell_type": "code",
   "execution_count": null,
   "metadata": {},
   "outputs": [],
   "source": [
    "rgb_to_depth_affine = getAffineTransformNonCV(xys_depth, xys_rgb)"
   ]
  },
  {
   "cell_type": "code",
   "execution_count": null,
   "metadata": {},
   "outputs": [],
   "source": [
    "rgb_to_depth_affine"
   ]
  },
  {
   "cell_type": "markdown",
   "metadata": {},
   "source": [
    "### Quick verification of Affine generation function vs opencv"
   ]
  },
  {
   "cell_type": "code",
   "execution_count": null,
   "metadata": {},
   "outputs": [],
   "source": [
    "xys_rgb2 = np.array([(a,b) for a, b in zip(*(xs_rgb[0:3], ys_rgb[0:3]))],np.float32) \n",
    "xys_depth2 = np.array([(a,b) for a, b in zip(*(xs_depth[0:3], ys_depth[0:3]))],np.float32) "
   ]
  },
  {
   "cell_type": "code",
   "execution_count": null,
   "metadata": {},
   "outputs": [],
   "source": [
    "rgb_to_depth_affine_cv2 = cv2.getAffineTransform( xys_depth2[0:3], xys_rgb2[0:3])"
   ]
  },
  {
   "cell_type": "code",
   "execution_count": null,
   "metadata": {},
   "outputs": [],
   "source": [
    "rgb_to_depth_affine_cv2"
   ]
  },
  {
   "cell_type": "markdown",
   "metadata": {},
   "source": [
    "# Apply the Affine Transformation and check work with previous points"
   ]
  },
  {
   "cell_type": "code",
   "execution_count": null,
   "metadata": {},
   "outputs": [],
   "source": [
    "def applyAffine(frame, affineMatrix):\n",
    "        input_shape = frame.shape\n",
    "        result = np.zeros(input_shape, dtype=np.uint64)\n",
    "        for input_y in range(input_shape[0]):\n",
    "            for input_x in range(input_shape[1]):\n",
    "                source_mat = np.array([float(input_x),float(input_y),1.0]).T\n",
    "                dest_mat = np.matmul(affineMatrix,source_mat)\n",
    "                dest_x = int(dest_mat[0])\n",
    "                dest_y = int(dest_mat[1])\n",
    "                if(dest_x >= 0 and dest_x < input_shape[1] and dest_y >= 0 and dest_y < input_shape[0]):\n",
    "                    result[dest_y][dest_x] = frame[input_y][input_x]\n",
    "        return result"
   ]
  },
  {
   "cell_type": "code",
   "execution_count": null,
   "metadata": {},
   "outputs": [],
   "source": [
    "depth_transformed = applyAffine(depth_img, rgb_to_depth_affine)\n",
    "\n",
    "depth_transformed2 = depth_transformed.copy()\n",
    "for i in range(len(xs_rgb)):\n",
    "    depth_transformed2[ys_rgb[i]-5:ys_rgb[i]+5,xs_rgb[i]-5:xs_rgb[i]+5] = [0,0,255]\n",
    "    \n",
    "depthImgFromData = convertDepthFrame(depth_transformed2)\n"
   ]
  },
  {
   "cell_type": "code",
   "execution_count": null,
   "metadata": {},
   "outputs": [],
   "source": [
    "plt.imshow(depth_transformed2[...,::-1])"
   ]
  },
  {
   "cell_type": "code",
   "execution_count": null,
   "metadata": {},
   "outputs": [],
   "source": [
    "depth_data_transformed = applyAffine(depth_data, rgb_to_depth_affine)\n",
    "\n",
    "depth_fromData_transformed2 = depth_data_transformed.copy()\n",
    "depthImgFromData2 = convertDepthFrame(depth_fromData_transformed2)\n",
    "for i in range(len(xs_rgb)):\n",
    "    depthImgFromData2[ys_rgb[i]-5:ys_rgb[i]+5,xs_rgb[i]-5:xs_rgb[i]+5] = [0,0,255]\n",
    "\n",
    "plt.imshow(depthImgFromData2)"
   ]
  },
  {
   "cell_type": "markdown",
   "metadata": {},
   "source": [
    "### Quick check against CV2 results"
   ]
  },
  {
   "cell_type": "code",
   "execution_count": null,
   "metadata": {},
   "outputs": [],
   "source": [
    "depth_transformed_cv2 = cv2.warpAffine(depth_img,rgb_to_depth_affine_cv2,(depth_img.shape[1], depth_img.shape[0]))\n",
    "\n",
    "depth_transformed2 = depth_transformed_cv2.copy()\n",
    "for i in range(len(xs_rgb)):\n",
    "    depth_transformed2[ys_rgb[i]-5:ys_rgb[i]+5,xs_rgb[i]-5:xs_rgb[i]+5] = [0,0,255]"
   ]
  },
  {
   "cell_type": "code",
   "execution_count": null,
   "metadata": {},
   "outputs": [],
   "source": [
    "plt.imshow(depth_transformed2[...,::-1])"
   ]
  },
  {
   "cell_type": "markdown",
   "metadata": {},
   "source": [
    "# Get the transform from the model to the camera"
   ]
  },
  {
   "cell_type": "code",
   "execution_count": null,
   "metadata": {},
   "outputs": [],
   "source": [
    "def registerExtrinsicMatrix(rVec, tVec):\n",
    "    extrinsicTranslation = tVec\n",
    "    extrinsicRotation = rVec\n",
    "    extrinsicRotation_matrix = cv2.Rodrigues(rVec)[0]\n",
    "    cameraExtrinsic = np.zeros((4,4))\n",
    "    cameraExtrinsic[0][3] = tVec[0]\n",
    "    cameraExtrinsic[1][3] = tVec[1]\n",
    "    cameraExtrinsic[2][3] = tVec[2]\n",
    "    cameraExtrinsic[3][3] = 1.0\n",
    "    for i in [0,1,2]:\n",
    "        for j in [0,1,2]:\n",
    "            cameraExtrinsic[i][j] = extrinsicRotation_matrix[i][j]\n",
    "    return cameraExtrinsic"
   ]
  },
  {
   "cell_type": "code",
   "execution_count": null,
   "metadata": {},
   "outputs": [],
   "source": [
    "def imgXyToCamXYZ(cameraCalibration, imgX, imgY, depth_data):\n",
    "    u0 = cameraCalibration[0][2]\n",
    "    v0 = cameraCalibration[1][2]\n",
    "    alpha = cameraCalibration[0][0]\n",
    "    beta = cameraCalibration[1][1]\n",
    "    z_pixel = depth_data[imgY][imgX]\n",
    "    Zc = 123.6 * np.tan(z_pixel/2842.5 + 1.1863)\n",
    "    Xc = ((imgX - u0) * Zc)/alpha\n",
    "    Yc = ((imgY - v0) * Zc)/beta\n",
    "    return np.array([Xc,Yc,Zc])"
   ]
  },
  {
   "cell_type": "code",
   "execution_count": null,
   "metadata": {},
   "outputs": [],
   "source": [
    "model_points = np.array([\\\n",
    "            [-305.0,-305.0,0.0],\\\n",
    "                [-305.0,305.0,0.0],\\\n",
    "                    [305.0,305.0,0.0],\\\n",
    "                        [305.0,-305.0,0.0],\\\n",
    "                            [0.0,0.0,128.75]])"
   ]
  },
  {
   "cell_type": "code",
   "execution_count": null,
   "metadata": {},
   "outputs": [],
   "source": [
    "image_points = np.float32(xys_rgb)"
   ]
  },
  {
   "cell_type": "code",
   "execution_count": null,
   "metadata": {},
   "outputs": [],
   "source": [
    "(success, rot_vec, trans_vec) = cv2.solvePnP(model_points, \\\n",
    "                                    image_points,\\\n",
    "                                    camera_calibration,\\\n",
    "                                    None)"
   ]
  },
  {
   "cell_type": "code",
   "execution_count": null,
   "metadata": {},
   "outputs": [],
   "source": [
    "camera_world_transform = registerExtrinsicMatrix(rot_vec, trans_vec)\n",
    "camera_world_transform"
   ]
  },
  {
   "cell_type": "code",
   "execution_count": null,
   "metadata": {},
   "outputs": [],
   "source": [
    "points=[[430,120]]"
   ]
  },
  {
   "cell_type": "code",
   "execution_count": null,
   "metadata": {},
   "outputs": [],
   "source": [
    "for [y,x] in points:\n",
    "    print(imgXyToCamXYZ(camera_world_transform, camera_calibration, x, y ,depth_data_transformed))"
   ]
  },
  {
   "cell_type": "code",
   "execution_count": null,
   "metadata": {},
   "outputs": [],
   "source": [
    "depth_fromData_transformed2 = depth_data_transformed.copy()\n",
    "depthImgFromData2 = convertDepthFrame(depth_fromData_transformed2)\n",
    "for [y,x] in points:\n",
    "    depthImgFromData2[y-5:y+5,x-5:x+5] = [0,0,255]\n",
    "plt.imshow(depthImgFromData2)"
   ]
  },
  {
   "cell_type": "code",
   "execution_count": null,
   "metadata": {},
   "outputs": [],
   "source": []
  }
 ],
 "metadata": {
  "kernelspec": {
   "display_name": "Python 3",
   "language": "python",
   "name": "python3"
  },
  "language_info": {
   "codemirror_mode": {
    "name": "ipython",
    "version": 3
   },
   "file_extension": ".py",
   "mimetype": "text/x-python",
   "name": "python",
   "nbconvert_exporter": "python",
   "pygments_lexer": "ipython3",
   "version": "3.7.3"
  }
 },
 "nbformat": 4,
 "nbformat_minor": 2
}
